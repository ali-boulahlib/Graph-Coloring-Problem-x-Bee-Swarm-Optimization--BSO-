{
 "cells": [
  {
   "cell_type": "markdown",
   "id": "6e3f6a65",
   "metadata": {},
   "source": [
    "# BSO Parameter Tuning Experiments\n",
    "\n",
    "This notebook runs the parameter grid experiments using our `experiments.py` script and then loads the results for interactive analysis."
   ]
  },
  {
   "cell_type": "code",
   "execution_count": 9,
   "id": "8aa6a84d",
   "metadata": {},
   "outputs": [],
   "source": [
    "# 1. Setup imports and module path\n",
    "import sys, os\n",
    "sys.path.insert(0, os.path.abspath('../src'))\n",
    "\n",
    "from experiments import run_experiments\n",
    "import pandas as pd\n",
    "\n",
    "# Ensure results directory exists\n",
    "os.makedirs('../results', exist_ok=True)\n"
   ]
  },
  {
   "cell_type": "code",
   "execution_count": 10,
   "id": "46d3da03",
   "metadata": {},
   "outputs": [
    {
     "name": "stdout",
     "output_type": "stream",
     "text": [
      "Results written to ../results/bso_experiments.csv\n"
     ]
    }
   ],
   "source": [
    "# 2. Run the experiments (this may take several minutes)\n",
    "csv_path = '../results/bso_experiments.csv'\n",
    "run_experiments(csv_path)\n",
    "print(f\"Results written to {csv_path}\")"
   ]
  },
  {
   "cell_type": "markdown",
   "id": "39087f39",
   "metadata": {},
   "source": [
    "## Load and preview results"
   ]
  },
  {
   "cell_type": "code",
   "execution_count": 11,
   "id": "b84ac62a",
   "metadata": {},
   "outputs": [
    {
     "data": {
      "text/html": [
       "<div>\n",
       "<style scoped>\n",
       "    .dataframe tbody tr th:only-of-type {\n",
       "        vertical-align: middle;\n",
       "    }\n",
       "\n",
       "    .dataframe tbody tr th {\n",
       "        vertical-align: top;\n",
       "    }\n",
       "\n",
       "    .dataframe thead th {\n",
       "        text-align: right;\n",
       "    }\n",
       "</style>\n",
       "<table border=\"1\" class=\"dataframe\">\n",
       "  <thead>\n",
       "    <tr style=\"text-align: right;\">\n",
       "      <th></th>\n",
       "      <th>graph</th>\n",
       "      <th>seed</th>\n",
       "      <th>n_bees</th>\n",
       "      <th>n_neighbors</th>\n",
       "      <th>n_chance</th>\n",
       "      <th>max_iter</th>\n",
       "      <th>fitness</th>\n",
       "      <th>conflicts</th>\n",
       "      <th>colors</th>\n",
       "      <th>runtime</th>\n",
       "    </tr>\n",
       "  </thead>\n",
       "  <tbody>\n",
       "  </tbody>\n",
       "</table>\n",
       "</div>"
      ],
      "text/plain": [
       "Empty DataFrame\n",
       "Columns: [graph, seed, n_bees, n_neighbors, n_chance, max_iter, fitness, conflicts, colors, runtime]\n",
       "Index: []"
      ]
     },
     "execution_count": 11,
     "metadata": {},
     "output_type": "execute_result"
    }
   ],
   "source": [
    "# 3. Load results into DataFrame\n",
    "df = pd.read_csv('../results/bso_experiments.csv')\n",
    "\n",
    "# Display the first few rows\n",
    "df.head(10)"
   ]
  },
  {
   "cell_type": "markdown",
   "id": "72f944db",
   "metadata": {},
   "source": [
    "## Summary statistics"
   ]
  },
  {
   "cell_type": "code",
   "execution_count": 12,
   "id": "64fbe095",
   "metadata": {},
   "outputs": [
    {
     "data": {
      "text/html": [
       "<div>\n",
       "<style scoped>\n",
       "    .dataframe tbody tr th:only-of-type {\n",
       "        vertical-align: middle;\n",
       "    }\n",
       "\n",
       "    .dataframe tbody tr th {\n",
       "        vertical-align: top;\n",
       "    }\n",
       "\n",
       "    .dataframe thead tr th {\n",
       "        text-align: left;\n",
       "    }\n",
       "</style>\n",
       "<table border=\"1\" class=\"dataframe\">\n",
       "  <thead>\n",
       "    <tr>\n",
       "      <th></th>\n",
       "      <th>n_bees</th>\n",
       "      <th>n_neighbors</th>\n",
       "      <th>n_chance</th>\n",
       "      <th>max_iter</th>\n",
       "      <th colspan=\"2\" halign=\"left\">fitness</th>\n",
       "      <th colspan=\"2\" halign=\"left\">runtime</th>\n",
       "      <th colspan=\"2\" halign=\"left\">colors</th>\n",
       "    </tr>\n",
       "    <tr>\n",
       "      <th></th>\n",
       "      <th></th>\n",
       "      <th></th>\n",
       "      <th></th>\n",
       "      <th></th>\n",
       "      <th>mean</th>\n",
       "      <th>std</th>\n",
       "      <th>mean</th>\n",
       "      <th>std</th>\n",
       "      <th>mean</th>\n",
       "      <th>std</th>\n",
       "    </tr>\n",
       "  </thead>\n",
       "  <tbody>\n",
       "  </tbody>\n",
       "</table>\n",
       "</div>"
      ],
      "text/plain": [
       "Empty DataFrame\n",
       "Columns: [(n_bees, ), (n_neighbors, ), (n_chance, ), (max_iter, ), (fitness, mean), (fitness, std), (runtime, mean), (runtime, std), (colors, mean), (colors, std)]\n",
       "Index: []"
      ]
     },
     "execution_count": 12,
     "metadata": {},
     "output_type": "execute_result"
    }
   ],
   "source": [
    "# 4. Compute summary statistics\n",
    "summary = df.groupby(['n_bees','n_neighbors','n_chance','max_iter'])[['fitness','runtime','colors']].agg(['mean','std']).reset_index()\n",
    "summary"
   ]
  }
 ],
 "metadata": {
  "kernelspec": {
   "display_name": "Python 3",
   "language": "python",
   "name": "python3"
  },
  "language_info": {
   "codemirror_mode": {
    "name": "ipython",
    "version": 3
   },
   "file_extension": ".py",
   "mimetype": "text/x-python",
   "name": "python",
   "nbconvert_exporter": "python",
   "pygments_lexer": "ipython3",
   "version": "3.11.6"
  }
 },
 "nbformat": 4,
 "nbformat_minor": 5
}
